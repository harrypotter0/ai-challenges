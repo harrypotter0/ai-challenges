{
 "cells": [
  {
   "cell_type": "code",
   "execution_count": 117,
   "metadata": {},
   "outputs": [],
   "source": [
    "import pandas as pd\n",
    "import numpy as np\n",
    "import matplotlib.pyplot as plt\n",
    "import seaborn as sns\n",
    "import pickle\n",
    "from sklearn.ensemble import RandomForestClassifier\n",
    "from sklearn.grid_search import GridSearchCV\n",
    "import sys\n",
    "from datetime import datetime\n",
    "# importing alll the necessary packages to use the various classification algorithms\n",
    "from sklearn.linear_model import LogisticRegression # for Logistic Regression Algorithm\n",
    "from sklearn.cross_validation import train_test_split # to split the dataset for training and testing \n",
    "from sklearn.neighbors import KNeighborsClassifier # KNN classifier\n",
    "from sklearn import svm # for suport vector machine algorithm\n",
    "from sklearn import metrics # for checking the model accuracy\n",
    "from sklearn.tree import DecisionTreeClassifier # for using DTA\n"
   ]
  },
  {
   "cell_type": "code",
   "execution_count": 118,
   "metadata": {},
   "outputs": [],
   "source": [
    "# Dividing the training and testing data in the ratio 70 : 30 \n",
    "df = pickle.load( open( \"df_train_api.pk\", \"rb\" ) )\n",
    "\n",
    "from sklearn.model_selection import train_test_split\n",
    "train, test = train_test_split(df, test_size=0.3)\n"
   ]
  },
  {
   "cell_type": "code",
   "execution_count": 119,
   "metadata": {},
   "outputs": [
    {
     "name": "stderr",
     "output_type": "stream",
     "text": [
      "/usr/local/lib/python3.5/dist-packages/pandas/core/frame.py:2540: SettingWithCopyWarning: \n",
      "A value is trying to be set on a copy of a slice from a DataFrame.\n",
      "Try using .loc[row_indexer,col_indexer] = value instead\n",
      "\n",
      "See the caveats in the documentation: http://pandas.pydata.org/pandas-docs/stable/indexing.html#indexing-view-versus-copy\n",
      "  self[k1] = value[k2]\n"
     ]
    },
    {
     "data": {
      "text/html": [
       "<div>\n",
       "<style scoped>\n",
       "    .dataframe tbody tr th:only-of-type {\n",
       "        vertical-align: middle;\n",
       "    }\n",
       "\n",
       "    .dataframe tbody tr th {\n",
       "        vertical-align: top;\n",
       "    }\n",
       "\n",
       "    .dataframe thead th {\n",
       "        text-align: right;\n",
       "    }\n",
       "</style>\n",
       "<table border=\"1\" class=\"dataframe\">\n",
       "  <thead>\n",
       "    <tr style=\"text-align: right;\">\n",
       "      <th></th>\n",
       "      <th>label</th>\n",
       "      <th>ht</th>\n",
       "      <th>wd</th>\n",
       "      <th>x</th>\n",
       "      <th>y</th>\n",
       "      <th>groups_new</th>\n",
       "      <th>data_new</th>\n",
       "      <th>ver_new</th>\n",
       "      <th>pos_x</th>\n",
       "      <th>pos_y</th>\n",
       "    </tr>\n",
       "  </thead>\n",
       "  <tbody>\n",
       "    <tr>\n",
       "      <th>3317</th>\n",
       "      <td>0</td>\n",
       "      <td>3508</td>\n",
       "      <td>2475</td>\n",
       "      <td>282.0</td>\n",
       "      <td>2678.0</td>\n",
       "      <td>198</td>\n",
       "      <td>13</td>\n",
       "      <td>159</td>\n",
       "      <td>1.082020</td>\n",
       "      <td>0.080388</td>\n",
       "    </tr>\n",
       "    <tr>\n",
       "      <th>3318</th>\n",
       "      <td>0</td>\n",
       "      <td>3508</td>\n",
       "      <td>2479</td>\n",
       "      <td>511.5</td>\n",
       "      <td>538.5</td>\n",
       "      <td>1234</td>\n",
       "      <td>6</td>\n",
       "      <td>966</td>\n",
       "      <td>0.217225</td>\n",
       "      <td>0.145810</td>\n",
       "    </tr>\n",
       "    <tr>\n",
       "      <th>3319</th>\n",
       "      <td>0</td>\n",
       "      <td>2964</td>\n",
       "      <td>2424</td>\n",
       "      <td>1808.0</td>\n",
       "      <td>2095.0</td>\n",
       "      <td>2054</td>\n",
       "      <td>33</td>\n",
       "      <td>3</td>\n",
       "      <td>0.864274</td>\n",
       "      <td>0.609987</td>\n",
       "    </tr>\n",
       "    <tr>\n",
       "      <th>3320</th>\n",
       "      <td>0</td>\n",
       "      <td>3300</td>\n",
       "      <td>2550</td>\n",
       "      <td>2236.5</td>\n",
       "      <td>1966.0</td>\n",
       "      <td>586</td>\n",
       "      <td>60</td>\n",
       "      <td>3</td>\n",
       "      <td>0.770980</td>\n",
       "      <td>0.677727</td>\n",
       "    </tr>\n",
       "    <tr>\n",
       "      <th>3321</th>\n",
       "      <td>2</td>\n",
       "      <td>3508</td>\n",
       "      <td>2480</td>\n",
       "      <td>1550.5</td>\n",
       "      <td>630.5</td>\n",
       "      <td>2502</td>\n",
       "      <td>32</td>\n",
       "      <td>1863</td>\n",
       "      <td>0.254234</td>\n",
       "      <td>0.441990</td>\n",
       "    </tr>\n",
       "    <tr>\n",
       "      <th>3322</th>\n",
       "      <td>0</td>\n",
       "      <td>2964</td>\n",
       "      <td>2424</td>\n",
       "      <td>1807.5</td>\n",
       "      <td>2210.5</td>\n",
       "      <td>701</td>\n",
       "      <td>33</td>\n",
       "      <td>3</td>\n",
       "      <td>0.911922</td>\n",
       "      <td>0.609818</td>\n",
       "    </tr>\n",
       "    <tr>\n",
       "      <th>3323</th>\n",
       "      <td>0</td>\n",
       "      <td>3507</td>\n",
       "      <td>2481</td>\n",
       "      <td>2173.0</td>\n",
       "      <td>2969.0</td>\n",
       "      <td>1103</td>\n",
       "      <td>28</td>\n",
       "      <td>863</td>\n",
       "      <td>1.196695</td>\n",
       "      <td>0.619618</td>\n",
       "    </tr>\n",
       "    <tr>\n",
       "      <th>3324</th>\n",
       "      <td>0</td>\n",
       "      <td>2338</td>\n",
       "      <td>1700</td>\n",
       "      <td>851.0</td>\n",
       "      <td>171.5</td>\n",
       "      <td>159</td>\n",
       "      <td>19</td>\n",
       "      <td>132</td>\n",
       "      <td>0.100882</td>\n",
       "      <td>0.363986</td>\n",
       "    </tr>\n",
       "    <tr>\n",
       "      <th>3325</th>\n",
       "      <td>0</td>\n",
       "      <td>890</td>\n",
       "      <td>670</td>\n",
       "      <td>93.0</td>\n",
       "      <td>544.0</td>\n",
       "      <td>2503</td>\n",
       "      <td>40</td>\n",
       "      <td>1864</td>\n",
       "      <td>0.811940</td>\n",
       "      <td>0.104494</td>\n",
       "    </tr>\n",
       "    <tr>\n",
       "      <th>3326</th>\n",
       "      <td>0</td>\n",
       "      <td>3508</td>\n",
       "      <td>2479</td>\n",
       "      <td>1941.0</td>\n",
       "      <td>3039.5</td>\n",
       "      <td>2504</td>\n",
       "      <td>25</td>\n",
       "      <td>3</td>\n",
       "      <td>1.226099</td>\n",
       "      <td>0.553307</td>\n",
       "    </tr>\n",
       "  </tbody>\n",
       "</table>\n",
       "</div>"
      ],
      "text/plain": [
       "      label    ht    wd       x       y  groups_new  data_new  ver_new  \\\n",
       "3317      0  3508  2475   282.0  2678.0         198        13      159   \n",
       "3318      0  3508  2479   511.5   538.5        1234         6      966   \n",
       "3319      0  2964  2424  1808.0  2095.0        2054        33        3   \n",
       "3320      0  3300  2550  2236.5  1966.0         586        60        3   \n",
       "3321      2  3508  2480  1550.5   630.5        2502        32     1863   \n",
       "3322      0  2964  2424  1807.5  2210.5         701        33        3   \n",
       "3323      0  3507  2481  2173.0  2969.0        1103        28      863   \n",
       "3324      0  2338  1700   851.0   171.5         159        19      132   \n",
       "3325      0   890   670    93.0   544.0        2503        40     1864   \n",
       "3326      0  3508  2479  1941.0  3039.5        2504        25        3   \n",
       "\n",
       "         pos_x     pos_y  \n",
       "3317  1.082020  0.080388  \n",
       "3318  0.217225  0.145810  \n",
       "3319  0.864274  0.609987  \n",
       "3320  0.770980  0.677727  \n",
       "3321  0.254234  0.441990  \n",
       "3322  0.911922  0.609818  \n",
       "3323  1.196695  0.619618  \n",
       "3324  0.100882  0.363986  \n",
       "3325  0.811940  0.104494  \n",
       "3326  1.226099  0.553307  "
      ]
     },
     "execution_count": 119,
     "metadata": {},
     "output_type": "execute_result"
    }
   ],
   "source": [
    "\n",
    "def munge(data):\n",
    "    data[['ver', 'ty','ht', 'wd']] = data['type'].apply(pd.Series)\n",
    "    data[['min_x', 'min_y','max_x', 'max_y','x', 'y']] = data['coords'].apply(pd.Series)\n",
    "    # Creating a new feature 1\n",
    "    temp_df1 = pd.DataFrame({'groups': data.groups.unique(), 'groups_new':range(len(data.groups.unique()))})\n",
    "    data = data.merge(temp_df1, on='groups', how='left')\n",
    "    # Creating a new feature 2\n",
    "    temp_df2 = pd.DataFrame({'data': data.data.unique(), 'data_new':range(len(data.data.unique()))})\n",
    "    data = data.merge(temp_df2, on='data', how='left')\n",
    "    # Creating a new feature 3 \n",
    "    temp_df3 = pd.DataFrame({'ver': data.ver.unique(), 'ver_new':range(len(data.ver.unique()))})\n",
    "    data = data.merge(temp_df3, on='ver', how='left')\n",
    "    data['pos_x'] = data['y'].astype(float)/data['wd'].astype(float)\n",
    "    data['pos_y'] = data['x'].astype(float)/data['ht'].astype(float)\n",
    "    return data.drop(['coords','min_x','min_y','max_x','max_y','type','ty','ver','data','groups'],axis=1)\n",
    "\n",
    "train = munge(train)\n",
    "test = munge(test)\n",
    "train.tail(10)\n"
   ]
  },
  {
   "cell_type": "code",
   "execution_count": 121,
   "metadata": {},
   "outputs": [],
   "source": [
    "\n",
    "train_X = train[['ht','wd','x','y','groups_new','ver_new','data_new','pos_x','pos_y']] # taking the training data features\n",
    "train_y = train.label # output of the training data\n",
    "\n",
    "test_X = test[['ht','wd','x','y','groups_new','ver_new','data_new','pos_x','pos_y']] # taking test data feature\n",
    "test_y = test.label # output value of the test data\n"
   ]
  },
  {
   "cell_type": "code",
   "execution_count": 122,
   "metadata": {},
   "outputs": [
    {
     "data": {
      "text/html": [
       "<div>\n",
       "<style scoped>\n",
       "    .dataframe tbody tr th:only-of-type {\n",
       "        vertical-align: middle;\n",
       "    }\n",
       "\n",
       "    .dataframe tbody tr th {\n",
       "        vertical-align: top;\n",
       "    }\n",
       "\n",
       "    .dataframe thead th {\n",
       "        text-align: right;\n",
       "    }\n",
       "</style>\n",
       "<table border=\"1\" class=\"dataframe\">\n",
       "  <thead>\n",
       "    <tr style=\"text-align: right;\">\n",
       "      <th></th>\n",
       "      <th>ht</th>\n",
       "      <th>wd</th>\n",
       "      <th>x</th>\n",
       "      <th>y</th>\n",
       "      <th>groups_new</th>\n",
       "      <th>ver_new</th>\n",
       "      <th>data_new</th>\n",
       "      <th>pos_x</th>\n",
       "      <th>pos_y</th>\n",
       "    </tr>\n",
       "  </thead>\n",
       "  <tbody>\n",
       "    <tr>\n",
       "      <th>0</th>\n",
       "      <td>3300</td>\n",
       "      <td>2550</td>\n",
       "      <td>1393.5</td>\n",
       "      <td>788.0</td>\n",
       "      <td>0</td>\n",
       "      <td>0</td>\n",
       "      <td>0</td>\n",
       "      <td>0.309020</td>\n",
       "      <td>0.422273</td>\n",
       "    </tr>\n",
       "    <tr>\n",
       "      <th>1</th>\n",
       "      <td>2337</td>\n",
       "      <td>1653</td>\n",
       "      <td>1126.0</td>\n",
       "      <td>530.0</td>\n",
       "      <td>1</td>\n",
       "      <td>1</td>\n",
       "      <td>1</td>\n",
       "      <td>0.320629</td>\n",
       "      <td>0.481814</td>\n",
       "    </tr>\n",
       "    <tr>\n",
       "      <th>2</th>\n",
       "      <td>3507</td>\n",
       "      <td>2550</td>\n",
       "      <td>328.0</td>\n",
       "      <td>289.0</td>\n",
       "      <td>2</td>\n",
       "      <td>2</td>\n",
       "      <td>2</td>\n",
       "      <td>0.113333</td>\n",
       "      <td>0.093527</td>\n",
       "    </tr>\n",
       "    <tr>\n",
       "      <th>3</th>\n",
       "      <td>2337</td>\n",
       "      <td>1653</td>\n",
       "      <td>942.5</td>\n",
       "      <td>1453.0</td>\n",
       "      <td>3</td>\n",
       "      <td>3</td>\n",
       "      <td>3</td>\n",
       "      <td>0.879008</td>\n",
       "      <td>0.403295</td>\n",
       "    </tr>\n",
       "    <tr>\n",
       "      <th>4</th>\n",
       "      <td>3508</td>\n",
       "      <td>2480</td>\n",
       "      <td>1529.5</td>\n",
       "      <td>908.0</td>\n",
       "      <td>4</td>\n",
       "      <td>4</td>\n",
       "      <td>4</td>\n",
       "      <td>0.366129</td>\n",
       "      <td>0.436003</td>\n",
       "    </tr>\n",
       "  </tbody>\n",
       "</table>\n",
       "</div>"
      ],
      "text/plain": [
       "     ht    wd       x       y  groups_new  ver_new  data_new     pos_x  \\\n",
       "0  3300  2550  1393.5   788.0           0        0         0  0.309020   \n",
       "1  2337  1653  1126.0   530.0           1        1         1  0.320629   \n",
       "2  3507  2550   328.0   289.0           2        2         2  0.113333   \n",
       "3  2337  1653   942.5  1453.0           3        3         3  0.879008   \n",
       "4  3508  2480  1529.5   908.0           4        4         4  0.366129   \n",
       "\n",
       "      pos_y  \n",
       "0  0.422273  \n",
       "1  0.481814  \n",
       "2  0.093527  \n",
       "3  0.403295  \n",
       "4  0.436003  "
      ]
     },
     "execution_count": 122,
     "metadata": {},
     "output_type": "execute_result"
    }
   ],
   "source": [
    "train_X.head()"
   ]
  },
  {
   "cell_type": "code",
   "execution_count": 123,
   "metadata": {},
   "outputs": [
    {
     "data": {
      "text/html": [
       "<div>\n",
       "<style scoped>\n",
       "    .dataframe tbody tr th:only-of-type {\n",
       "        vertical-align: middle;\n",
       "    }\n",
       "\n",
       "    .dataframe tbody tr th {\n",
       "        vertical-align: top;\n",
       "    }\n",
       "\n",
       "    .dataframe thead th {\n",
       "        text-align: right;\n",
       "    }\n",
       "</style>\n",
       "<table border=\"1\" class=\"dataframe\">\n",
       "  <thead>\n",
       "    <tr style=\"text-align: right;\">\n",
       "      <th></th>\n",
       "      <th>ht</th>\n",
       "      <th>wd</th>\n",
       "      <th>x</th>\n",
       "      <th>y</th>\n",
       "      <th>groups_new</th>\n",
       "      <th>ver_new</th>\n",
       "      <th>data_new</th>\n",
       "      <th>pos_x</th>\n",
       "      <th>pos_y</th>\n",
       "    </tr>\n",
       "  </thead>\n",
       "  <tbody>\n",
       "    <tr>\n",
       "      <th>0</th>\n",
       "      <td>3300</td>\n",
       "      <td>2550</td>\n",
       "      <td>243.5</td>\n",
       "      <td>3013.0</td>\n",
       "      <td>0</td>\n",
       "      <td>0</td>\n",
       "      <td>0</td>\n",
       "      <td>1.181569</td>\n",
       "      <td>0.073788</td>\n",
       "    </tr>\n",
       "    <tr>\n",
       "      <th>1</th>\n",
       "      <td>2337</td>\n",
       "      <td>1653</td>\n",
       "      <td>1028.5</td>\n",
       "      <td>847.0</td>\n",
       "      <td>1</td>\n",
       "      <td>1</td>\n",
       "      <td>1</td>\n",
       "      <td>0.512402</td>\n",
       "      <td>0.440094</td>\n",
       "    </tr>\n",
       "    <tr>\n",
       "      <th>2</th>\n",
       "      <td>3508</td>\n",
       "      <td>2479</td>\n",
       "      <td>1852.5</td>\n",
       "      <td>818.0</td>\n",
       "      <td>2</td>\n",
       "      <td>2</td>\n",
       "      <td>2</td>\n",
       "      <td>0.329972</td>\n",
       "      <td>0.528079</td>\n",
       "    </tr>\n",
       "    <tr>\n",
       "      <th>3</th>\n",
       "      <td>3508</td>\n",
       "      <td>2480</td>\n",
       "      <td>2220.0</td>\n",
       "      <td>1779.0</td>\n",
       "      <td>3</td>\n",
       "      <td>3</td>\n",
       "      <td>3</td>\n",
       "      <td>0.717339</td>\n",
       "      <td>0.632839</td>\n",
       "    </tr>\n",
       "    <tr>\n",
       "      <th>4</th>\n",
       "      <td>3300</td>\n",
       "      <td>2550</td>\n",
       "      <td>423.5</td>\n",
       "      <td>298.5</td>\n",
       "      <td>4</td>\n",
       "      <td>4</td>\n",
       "      <td>4</td>\n",
       "      <td>0.117059</td>\n",
       "      <td>0.128333</td>\n",
       "    </tr>\n",
       "  </tbody>\n",
       "</table>\n",
       "</div>"
      ],
      "text/plain": [
       "     ht    wd       x       y  groups_new  ver_new  data_new     pos_x  \\\n",
       "0  3300  2550   243.5  3013.0           0        0         0  1.181569   \n",
       "1  2337  1653  1028.5   847.0           1        1         1  0.512402   \n",
       "2  3508  2479  1852.5   818.0           2        2         2  0.329972   \n",
       "3  3508  2480  2220.0  1779.0           3        3         3  0.717339   \n",
       "4  3300  2550   423.5   298.5           4        4         4  0.117059   \n",
       "\n",
       "      pos_y  \n",
       "0  0.073788  \n",
       "1  0.440094  \n",
       "2  0.528079  \n",
       "3  0.632839  \n",
       "4  0.128333  "
      ]
     },
     "execution_count": 123,
     "metadata": {},
     "output_type": "execute_result"
    }
   ],
   "source": [
    "test_X.head()"
   ]
  },
  {
   "cell_type": "code",
   "execution_count": 124,
   "metadata": {},
   "outputs": [
    {
     "data": {
      "text/plain": [
       "0    0\n",
       "1    0\n",
       "2    0\n",
       "3    0\n",
       "4    0\n",
       "Name: label, dtype: int64"
      ]
     },
     "execution_count": 124,
     "metadata": {},
     "output_type": "execute_result"
    }
   ],
   "source": [
    "train_y.head()"
   ]
  },
  {
   "cell_type": "code",
   "execution_count": null,
   "metadata": {},
   "outputs": [],
   "source": []
  },
  {
   "cell_type": "code",
   "execution_count": 125,
   "metadata": {},
   "outputs": [
    {
     "name": "stdout",
     "output_type": "stream",
     "text": [
      "The accuracy of Decision Tree is:  0.8878766643307638\n"
     ]
    }
   ],
   "source": [
    "model = DecisionTreeClassifier()\n",
    "model.fit(train_X, train_y)\n",
    "prediction = model.predict(test_X)\n",
    "print('The accuracy of Decision Tree is: ', metrics.accuracy_score(prediction, test_y))"
   ]
  },
  {
   "cell_type": "code",
   "execution_count": 126,
   "metadata": {},
   "outputs": [
    {
     "name": "stdout",
     "output_type": "stream",
     "text": [
      "The accuracy of Logistic Regression is:  0.948843728100911\n"
     ]
    }
   ],
   "source": [
    "model = LogisticRegression()\n",
    "model.fit(train_X, train_y)\n",
    "prediction = model.predict(test_X)\n",
    "print('The accuracy of Logistic Regression is: ', metrics.accuracy_score(prediction, test_y))"
   ]
  },
  {
   "cell_type": "code",
   "execution_count": 128,
   "metadata": {},
   "outputs": [
    {
     "name": "stdout",
     "output_type": "stream",
     "text": [
      "The accuracy of KNN is:  0.9390329362298528\n"
     ]
    }
   ],
   "source": [
    "model = KNeighborsClassifier(n_neighbors=3) # this examines 3 neighbors for putting the data into class\n",
    "model.fit(train_X, train_y)\n",
    "prediction = model.predict(test_X)\n",
    "print('The accuracy of KNN is: ', metrics.accuracy_score(prediction, test_y))"
   ]
  },
  {
   "cell_type": "code",
   "execution_count": 129,
   "metadata": {},
   "outputs": [
    {
     "data": {
      "text/plain": [
       "([<matplotlib.axis.XTick at 0x7f0b5bd5ce48>,\n",
       "  <matplotlib.axis.XTick at 0x7f0b9b948588>,\n",
       "  <matplotlib.axis.XTick at 0x7f0b5bd5cc88>,\n",
       "  <matplotlib.axis.XTick at 0x7f0b5cefd0f0>,\n",
       "  <matplotlib.axis.XTick at 0x7f0b5c030828>,\n",
       "  <matplotlib.axis.XTick at 0x7f0b5cfab470>,\n",
       "  <matplotlib.axis.XTick at 0x7f0b5c46f6a0>,\n",
       "  <matplotlib.axis.XTick at 0x7f0b5c46f940>,\n",
       "  <matplotlib.axis.XTick at 0x7f0b5ca27860>,\n",
       "  <matplotlib.axis.XTick at 0x7f0b5ca51c50>],\n",
       " <a list of 10 Text xticklabel objects>)"
      ]
     },
     "execution_count": 129,
     "metadata": {},
     "output_type": "execute_result"
    },
    {
     "data": {
      "image/png": "[encoded data removed]",
      "text/plain": [
       "<matplotlib.figure.Figure at 0x7f0b5c337160>"
      ]
     },
     "metadata": {},
     "output_type": "display_data"
    }
   ],
   "source": [
    "# Let's check the accuracy for various values of n for K-Nearest nerighbours\n",
    "a_index = list(range(1,11))\n",
    "a = pd.Series()\n",
    "for i in list(range(1,11)):\n",
    "    model = KNeighborsClassifier(n_neighbors=i)\n",
    "    model.fit(train_X, train_y)\n",
    "    prediction = model.predict(test_X)\n",
    "    a = a.append(pd.Series(metrics.accuracy_score(prediction, test_y)))\n",
    "plt.plot(a_index, a)\n",
    "x = [1,2,3,4,5,6,7,8,9,10]\n",
    "plt.xticks(x)"
   ]
  },
  {
   "cell_type": "code",
   "execution_count": 133,
   "metadata": {},
   "outputs": [
    {
     "name": "stdout",
     "output_type": "stream",
     "text": [
      "0.948843728100911\n",
      "The accuracy of the SVM is:  0.948843728100911\n"
     ]
    }
   ],
   "source": [
    "from sklearn import model_selection\n",
    "import pickle\n",
    "\n",
    "model = svm.SVC() # select the svm algorithm\n",
    "\n",
    "# we train the algorithm with training data and training output\n",
    "model.fit(train_X, train_y)\n",
    "# save the model to disk\n",
    "filename = 'finalized_model.pk'\n",
    "pickle.dump(model, open(filename, 'wb'))\n",
    "\n",
    "# some time later...\n",
    "\n",
    "# load the model from disk\n",
    "loaded_model = pickle.load(open(filename, 'rb'))\n",
    "result = loaded_model.score(test_X, test_y)\n",
    "print(result)\n",
    "\n",
    "# we pass the testing data to the stored algorithm to predict the outcome\n",
    "prediction = model.predict(test_X)\n",
    "print('The accuracy of the SVM is: ', metrics.accuracy_score(prediction, test_y)) # we check the accuracy of the algorithm\n",
    "#we pass the predicted output by the model and the actual output\n"
   ]
  },
  {
   "cell_type": "code",
   "execution_count": 138,
   "metadata": {},
   "outputs": [
    {
     "data": {
      "text/plain": [
       "SVC(C=1.0, cache_size=200, class_weight=None, coef0=0.0,\n",
       "  decision_function_shape='ovr', degree=3, gamma='auto', kernel='rbf',\n",
       "  max_iter=-1, probability=False, random_state=None, shrinking=True,\n",
       "  tol=0.001, verbose=False)"
      ]
     },
     "execution_count": 138,
     "metadata": {},
     "output_type": "execute_result"
    }
   ],
   "source": [
    "fin = pickle.load( open( \"finalized_model.pk\", \"rb\" ) )\n",
    "fin"
   ]
  },
  {
   "cell_type": "code",
   "execution_count": null,
   "metadata": {},
   "outputs": [],
   "source": []
  }
 ],
 "metadata": {
  "kernelspec": {
   "display_name": "Python 3",
   "language": "python",
   "name": "python3"
  },
  "language_info": {
   "codemirror_mode": {
    "name": "ipython",
    "version": 3
   },
   "file_extension": ".py",
   "mimetype": "text/x-python",
   "name": "python",
   "nbconvert_exporter": "python",
   "pygments_lexer": "ipython3",
   "version": "3.5.2"
  }
 },
 "nbformat": 4,
 "nbformat_minor": 2
}

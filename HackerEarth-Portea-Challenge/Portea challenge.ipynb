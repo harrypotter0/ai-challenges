{
 "cells": [
  {
   "cell_type": "markdown",
   "metadata": {
    "deletable": true,
    "editable": true
   },
   "source": [
    "### Libraries"
   ]
  },
  {
   "cell_type": "code",
   "execution_count": 105,
   "metadata": {
    "ExecuteTime": {
     "end_time": "2018-04-09T19:06:45.432723Z",
     "start_time": "2018-04-09T19:06:45.416735Z"
    },
    "collapsed": false,
    "deletable": true,
    "editable": true
   },
   "outputs": [],
   "source": [
    "import numpy as np,pandas as pd\n",
    "from sklearn.ensemble import RandomForestClassifier,RandomForestRegressor\n",
    "import xgboost as xgb\n",
    "from sklearn.model_selection import train_test_split\n",
    "from sklearn.metrics import roc_auc_score,auc\n",
    "from sklearn.metrics import confusion_matrix,accuracy_score,r2_score,mean_squared_error\n",
    "from xgboost import plot_importance\n",
    "import matplotlib.pyplot as plt\n",
    "%matplotlib inline \n",
    "from sklearn.preprocessing import LabelEncoder \n",
    "import datetime as dt"
   ]
  },
  {
   "cell_type": "code",
   "execution_count": 110,
   "metadata": {
    "ExecuteTime": {
     "end_time": "2018-04-09T19:07:09.663528Z",
     "start_time": "2018-04-09T19:07:07.902919Z"
    },
    "collapsed": false,
    "deletable": true,
    "editable": true
   },
   "outputs": [
    {
     "name": "stderr",
     "output_type": "stream",
     "text": [
      "/home/rajat/anaconda3/envs/py35/lib/python3.5/site-packages/IPython/core/interactiveshell.py:2717: DtypeWarning: Columns (19) have mixed types. Specify dtype option on import or set low_memory=False.\n",
      "  interactivity=interactivity, compiler=compiler, result=result)\n",
      "/home/rajat/anaconda3/envs/py35/lib/python3.5/site-packages/IPython/core/interactiveshell.py:2717: DtypeWarning: Columns (20,21) have mixed types. Specify dtype option on import or set low_memory=False.\n",
      "  interactivity=interactivity, compiler=compiler, result=result)\n"
     ]
    }
   ],
   "source": [
    "test=pd.read_csv('patient_monthwise_revenue_test.csv')\n",
    "train=pd.read_csv('patient_monthwise_revenue_train.csv')\n",
    "test_p=pd.read_csv('physio_diagnosis_test.csv')\n",
    "train_p=pd.read_csv('physio_diagnosis_train.csv')\n",
    "train_cl=pd.read_csv('patient_train_classified.csv')\n",
    "train_ph=pd.read_csv('physio_appts_train.csv')\n",
    "\n",
    "#"
   ]
  },
  {
   "cell_type": "markdown",
   "metadata": {
    "ExecuteTime": {
     "end_time": "2018-03-27T15:15:48.490099Z",
     "start_time": "2018-03-27T15:15:48.484141Z"
    },
    "deletable": true,
    "editable": true
   },
   "source": [
    "### PREPROCESSING"
   ]
  },
  {
   "cell_type": "code",
   "execution_count": 112,
   "metadata": {
    "ExecuteTime": {
     "end_time": "2018-04-09T19:07:09.923504Z",
     "start_time": "2018-04-09T19:07:09.907685Z"
    },
    "collapsed": false,
    "deletable": true,
    "editable": true
   },
   "outputs": [
    {
     "data": {
      "text/html": [
       "<div>\n",
       "<table border=\"1\" class=\"dataframe\">\n",
       "  <thead>\n",
       "    <tr style=\"text-align: right;\">\n",
       "      <th></th>\n",
       "      <th>patient_id</th>\n",
       "      <th>Bucket</th>\n",
       "      <th>revenue</th>\n",
       "    </tr>\n",
       "  </thead>\n",
       "  <tbody>\n",
       "    <tr>\n",
       "      <th>0</th>\n",
       "      <td>400061</td>\n",
       "      <td>Med</td>\n",
       "      <td>1200.0</td>\n",
       "    </tr>\n",
       "    <tr>\n",
       "      <th>1</th>\n",
       "      <td>25535</td>\n",
       "      <td>High</td>\n",
       "      <td>25150.0</td>\n",
       "    </tr>\n",
       "    <tr>\n",
       "      <th>2</th>\n",
       "      <td>409013</td>\n",
       "      <td>Med</td>\n",
       "      <td>4480.0</td>\n",
       "    </tr>\n",
       "    <tr>\n",
       "      <th>3</th>\n",
       "      <td>164585</td>\n",
       "      <td>Low</td>\n",
       "      <td>500.0</td>\n",
       "    </tr>\n",
       "    <tr>\n",
       "      <th>4</th>\n",
       "      <td>56960</td>\n",
       "      <td>Low</td>\n",
       "      <td>500.0</td>\n",
       "    </tr>\n",
       "  </tbody>\n",
       "</table>\n",
       "</div>"
      ],
      "text/plain": [
       "   patient_id Bucket  revenue\n",
       "0      400061    Med   1200.0\n",
       "1       25535   High  25150.0\n",
       "2      409013    Med   4480.0\n",
       "3      164585    Low    500.0\n",
       "4       56960    Low    500.0"
      ]
     },
     "execution_count": 112,
     "metadata": {},
     "output_type": "execute_result"
    }
   ],
   "source": [
    "train_cl.columns=['patient_id','Bucket','revenue']\n",
    "train_cl.head()"
   ]
  },
  {
   "cell_type": "code",
   "execution_count": 113,
   "metadata": {
    "ExecuteTime": {
     "end_time": "2018-04-09T19:07:11.140887Z",
     "start_time": "2018-04-09T19:07:10.981528Z"
    },
    "collapsed": true,
    "deletable": true,
    "editable": true
   },
   "outputs": [],
   "source": [
    "train.drop('revenue',axis=1,inplace=True)\n",
    "train=pd.merge(train,train_cl,on='patient_id').drop(['Bucket'],axis=1)"
   ]
  },
  {
   "cell_type": "code",
   "execution_count": 114,
   "metadata": {
    "ExecuteTime": {
     "end_time": "2018-04-09T19:07:14.370973Z",
     "start_time": "2018-04-09T19:07:14.317326Z"
    },
    "collapsed": false,
    "deletable": true,
    "editable": true
   },
   "outputs": [],
   "source": [
    "train.drop(['Unnamed: 20','Unnamed: 21'],axis=1,inplace=True)\n",
    "test.drop(['Unnamed: 18','Unnamed: 19'],axis=1,inplace=True)\n",
    "train_p.drop(['Unnamed: 7','Unnamed: 8'],axis=1,inplace=True)\n",
    "test_p.drop(['Unnamed: 6','Unnamed: 7'],axis=1,inplace=True)"
   ]
  },
  {
   "cell_type": "code",
   "execution_count": 115,
   "metadata": {
    "ExecuteTime": {
     "end_time": "2018-04-09T19:07:15.078855Z",
     "start_time": "2018-04-09T19:07:15.001306Z"
    },
    "collapsed": false,
    "deletable": true,
    "editable": true
   },
   "outputs": [],
   "source": [
    "train.service_name.fillna('None',inplace=True)\n",
    "test.service_name.fillna('None',inplace=True)\n",
    "train.gender.fillna('None',inplace=True)\n",
    "test.gender.fillna('None',inplace=True)\n",
    "train.diagnosis.fillna('None',inplace=True)\n",
    "test.diagnosis.fillna('None',inplace=True)\n"
   ]
  },
  {
   "cell_type": "code",
   "execution_count": 119,
   "metadata": {
    "ExecuteTime": {
     "end_time": "2018-04-09T19:08:23.114624Z",
     "start_time": "2018-04-09T19:08:23.083485Z"
    },
    "collapsed": false,
    "deletable": true,
    "editable": true
   },
   "outputs": [],
   "source": [
    "train=train[train.visits_required!=0]"
   ]
  },
  {
   "cell_type": "code",
   "execution_count": 120,
   "metadata": {
    "ExecuteTime": {
     "end_time": "2018-04-09T19:08:25.205372Z",
     "start_time": "2018-04-09T19:08:25.199198Z"
    },
    "collapsed": false,
    "deletable": true,
    "editable": true
   },
   "outputs": [
    {
     "data": {
      "text/plain": [
       "((55329, 18), (78588, 20), (48804, 7), (32455, 6), (48804, 3), (501324, 10))"
      ]
     },
     "execution_count": 120,
     "metadata": {},
     "output_type": "execute_result"
    }
   ],
   "source": [
    "test.shape,train.shape,train_p.shape,test_p.shape,train_cl.shape,train_ph.shape"
   ]
  },
  {
   "cell_type": "code",
   "execution_count": 228,
   "metadata": {
    "ExecuteTime": {
     "end_time": "2018-04-09T19:25:54.680702Z",
     "start_time": "2018-04-09T19:25:54.676222Z"
    },
    "collapsed": false,
    "deletable": true,
    "editable": true
   },
   "outputs": [],
   "source": [
    "#temp=train.groupby(['patient_id'])[['visits_count']].sum().reset_index()\n",
    "#temp.head()"
   ]
  },
  {
   "cell_type": "code",
   "execution_count": 9,
   "metadata": {
    "ExecuteTime": {
     "end_time": "2018-04-09T18:41:26.008136Z",
     "start_time": "2018-04-09T18:41:25.859602Z"
    },
    "collapsed": true,
    "deletable": true,
    "editable": true
   },
   "outputs": [],
   "source": [
    "#train.drop('visits_count',axis=1,inplace=True)\n",
    "#train=pd.merge(train,temp,on='patient_id')"
   ]
  },
  {
   "cell_type": "code",
   "execution_count": 121,
   "metadata": {
    "ExecuteTime": {
     "end_time": "2018-04-09T19:08:29.933193Z",
     "start_time": "2018-04-09T19:08:29.884535Z"
    },
    "collapsed": false,
    "deletable": true,
    "editable": true
   },
   "outputs": [
    {
     "data": {
      "text/html": [
       "<div>\n",
       "<table border=\"1\" class=\"dataframe\">\n",
       "  <thead>\n",
       "    <tr style=\"text-align: right;\">\n",
       "      <th></th>\n",
       "      <th>patient_id</th>\n",
       "      <th>visit_month_year</th>\n",
       "      <th>service_id</th>\n",
       "      <th>visits_count</th>\n",
       "      <th>city</th>\n",
       "      <th>ref_type</th>\n",
       "      <th>ref_name</th>\n",
       "      <th>ref_source</th>\n",
       "      <th>service_name</th>\n",
       "      <th>FVD</th>\n",
       "      <th>FVM</th>\n",
       "      <th>FVS</th>\n",
       "      <th>approx_age</th>\n",
       "      <th>gender</th>\n",
       "      <th>LVD</th>\n",
       "      <th>brand</th>\n",
       "      <th>visits_required</th>\n",
       "      <th>diagnosis</th>\n",
       "      <th>avg_nps</th>\n",
       "      <th>revenue</th>\n",
       "    </tr>\n",
       "  </thead>\n",
       "  <tbody>\n",
       "    <tr>\n",
       "      <th>0</th>\n",
       "      <td>10020</td>\n",
       "      <td>04/15</td>\n",
       "      <td>2</td>\n",
       "      <td>1</td>\n",
       "      <td>Chennai</td>\n",
       "      <td>B2C</td>\n",
       "      <td>None</td>\n",
       "      <td>Direct Organic</td>\n",
       "      <td>P</td>\n",
       "      <td>21/04/2015</td>\n",
       "      <td>04/15</td>\n",
       "      <td>P</td>\n",
       "      <td>62</td>\n",
       "      <td>male</td>\n",
       "      <td>21/04/2015</td>\n",
       "      <td>Portea</td>\n",
       "      <td>1</td>\n",
       "      <td>Post Operative condition of Cardiac Valve repl...</td>\n",
       "      <td>\\N</td>\n",
       "      <td>500.0</td>\n",
       "    </tr>\n",
       "    <tr>\n",
       "      <th>1</th>\n",
       "      <td>10293</td>\n",
       "      <td>04/17</td>\n",
       "      <td>2</td>\n",
       "      <td>7</td>\n",
       "      <td>Mumbai</td>\n",
       "      <td>B2C</td>\n",
       "      <td>Facebook</td>\n",
       "      <td>Digital + ATL</td>\n",
       "      <td>P</td>\n",
       "      <td>08/04/2017</td>\n",
       "      <td>04/17</td>\n",
       "      <td>P</td>\n",
       "      <td>42</td>\n",
       "      <td>female</td>\n",
       "      <td>25/04/2017</td>\n",
       "      <td>Portea</td>\n",
       "      <td>8</td>\n",
       "      <td>Rheumatoid arthritis</td>\n",
       "      <td>9</td>\n",
       "      <td>4900.0</td>\n",
       "    </tr>\n",
       "    <tr>\n",
       "      <th>2</th>\n",
       "      <td>10381</td>\n",
       "      <td>07/15</td>\n",
       "      <td>2</td>\n",
       "      <td>1</td>\n",
       "      <td>NCR</td>\n",
       "      <td>B2C</td>\n",
       "      <td>None</td>\n",
       "      <td>Direct Organic</td>\n",
       "      <td>P</td>\n",
       "      <td>31/07/2015</td>\n",
       "      <td>07/15</td>\n",
       "      <td>P</td>\n",
       "      <td>67</td>\n",
       "      <td>male</td>\n",
       "      <td>11/09/2015</td>\n",
       "      <td>Portea</td>\n",
       "      <td>10</td>\n",
       "      <td>frozen shoulder</td>\n",
       "      <td>8</td>\n",
       "      <td>12250.0</td>\n",
       "    </tr>\n",
       "    <tr>\n",
       "      <th>3</th>\n",
       "      <td>10381</td>\n",
       "      <td>08/15</td>\n",
       "      <td>2</td>\n",
       "      <td>20</td>\n",
       "      <td>NCR</td>\n",
       "      <td>B2C</td>\n",
       "      <td>None</td>\n",
       "      <td>Direct Organic</td>\n",
       "      <td>P</td>\n",
       "      <td>31/07/2015</td>\n",
       "      <td>07/15</td>\n",
       "      <td>P</td>\n",
       "      <td>67</td>\n",
       "      <td>male</td>\n",
       "      <td>11/09/2015</td>\n",
       "      <td>Portea</td>\n",
       "      <td>10</td>\n",
       "      <td>frozen shoulder</td>\n",
       "      <td>8</td>\n",
       "      <td>12250.0</td>\n",
       "    </tr>\n",
       "    <tr>\n",
       "      <th>4</th>\n",
       "      <td>10381</td>\n",
       "      <td>08/15</td>\n",
       "      <td>98</td>\n",
       "      <td>1</td>\n",
       "      <td>NCR</td>\n",
       "      <td>B2C</td>\n",
       "      <td>None</td>\n",
       "      <td>Direct Organic</td>\n",
       "      <td>P</td>\n",
       "      <td>31/07/2015</td>\n",
       "      <td>07/15</td>\n",
       "      <td>P</td>\n",
       "      <td>67</td>\n",
       "      <td>male</td>\n",
       "      <td>11/09/2015</td>\n",
       "      <td>Portea</td>\n",
       "      <td>10</td>\n",
       "      <td>frozen shoulder</td>\n",
       "      <td>8</td>\n",
       "      <td>12250.0</td>\n",
       "    </tr>\n",
       "  </tbody>\n",
       "</table>\n",
       "</div>"
      ],
      "text/plain": [
       "   patient_id visit_month_year  service_id  visits_count     city ref_type  \\\n",
       "0       10020            04/15           2             1  Chennai      B2C   \n",
       "1       10293            04/17           2             7   Mumbai      B2C   \n",
       "2       10381            07/15           2             1      NCR      B2C   \n",
       "3       10381            08/15           2            20      NCR      B2C   \n",
       "4       10381            08/15          98             1      NCR      B2C   \n",
       "\n",
       "   ref_name      ref_source service_name         FVD    FVM FVS approx_age  \\\n",
       "0      None  Direct Organic            P  21/04/2015  04/15   P         62   \n",
       "1  Facebook   Digital + ATL            P  08/04/2017  04/17   P         42   \n",
       "2      None  Direct Organic            P  31/07/2015  07/15   P         67   \n",
       "3      None  Direct Organic            P  31/07/2015  07/15   P         67   \n",
       "4      None  Direct Organic            P  31/07/2015  07/15   P         67   \n",
       "\n",
       "   gender         LVD   brand  visits_required  \\\n",
       "0    male  21/04/2015  Portea                1   \n",
       "1  female  25/04/2017  Portea                8   \n",
       "2    male  11/09/2015  Portea               10   \n",
       "3    male  11/09/2015  Portea               10   \n",
       "4    male  11/09/2015  Portea               10   \n",
       "\n",
       "                                           diagnosis avg_nps  revenue  \n",
       "0  Post Operative condition of Cardiac Valve repl...      \\N    500.0  \n",
       "1                               Rheumatoid arthritis       9   4900.0  \n",
       "2                                    frozen shoulder       8  12250.0  \n",
       "3                                    frozen shoulder       8  12250.0  \n",
       "4                                    frozen shoulder       8  12250.0  "
      ]
     },
     "execution_count": 121,
     "metadata": {},
     "output_type": "execute_result"
    }
   ],
   "source": [
    "train.head()"
   ]
  },
  {
   "cell_type": "code",
   "execution_count": 122,
   "metadata": {
    "ExecuteTime": {
     "end_time": "2018-04-09T19:08:32.544537Z",
     "start_time": "2018-04-09T19:08:32.522134Z"
    },
    "collapsed": false,
    "deletable": true,
    "editable": true
   },
   "outputs": [],
   "source": [
    "def date_feature(df):\n",
    "    df.FVD=df.FVD.apply(lambda x:dt.datetime.strptime(x,'%d/%m/%Y'))\n",
    "    df.LVD=df.LVD.apply(lambda x:dt.datetime.strptime(x,'%d/%m/%Y'))\n",
    "    df['date_diff']=df.LVD.sub(df.FVD).astype(dt.timedelta).map(lambda x: np.nan if pd.isnull(x) else x.days)\n",
    "    df['fvd_year']=df.FVD.dt.year\n",
    "    df['fvd_month']=df.FVD.dt.month\n",
    "    df['fvd_day']=df.FVD.dt.day\n",
    "    df['lvd_year']=df.LVD.dt.year\n",
    "    df['lvd_month']=df.LVD.dt.month\n",
    "    df['lvd_day']=df.LVD.dt.day\n",
    "    df.drop(['FVD','LVD'],axis=1,inplace=True)\n",
    "    return df\n",
    "    "
   ]
  },
  {
   "cell_type": "code",
   "execution_count": 123,
   "metadata": {
    "ExecuteTime": {
     "end_time": "2018-04-09T19:08:38.148865Z",
     "start_time": "2018-04-09T19:08:33.731563Z"
    },
    "collapsed": false,
    "deletable": true,
    "editable": true
   },
   "outputs": [],
   "source": [
    "train=date_feature(train)"
   ]
  },
  {
   "cell_type": "code",
   "execution_count": 124,
   "metadata": {
    "ExecuteTime": {
     "end_time": "2018-04-09T19:08:41.216310Z",
     "start_time": "2018-04-09T19:08:38.151253Z"
    },
    "collapsed": true,
    "deletable": true,
    "editable": true
   },
   "outputs": [],
   "source": [
    "test=date_feature(test)"
   ]
  },
  {
   "cell_type": "code",
   "execution_count": 125,
   "metadata": {
    "ExecuteTime": {
     "end_time": "2018-04-09T19:08:42.634289Z",
     "start_time": "2018-04-09T19:08:42.625575Z"
    },
    "collapsed": false,
    "deletable": true,
    "editable": true
   },
   "outputs": [],
   "source": [
    "train['is_train']=1\n",
    "test['is_train']=0"
   ]
  },
  {
   "cell_type": "code",
   "execution_count": 126,
   "metadata": {
    "ExecuteTime": {
     "end_time": "2018-04-09T19:08:43.859132Z",
     "start_time": "2018-04-09T19:08:43.735018Z"
    },
    "collapsed": false,
    "deletable": true,
    "editable": true
   },
   "outputs": [
    {
     "name": "stdout",
     "output_type": "stream",
     "text": [
      "(133917, 26)\n"
     ]
    },
    {
     "data": {
      "text/html": [
       "<div>\n",
       "<table border=\"1\" class=\"dataframe\">\n",
       "  <thead>\n",
       "    <tr style=\"text-align: right;\">\n",
       "      <th></th>\n",
       "      <th>FVM</th>\n",
       "      <th>FVS</th>\n",
       "      <th>approx_age</th>\n",
       "      <th>avg_nps</th>\n",
       "      <th>brand</th>\n",
       "      <th>city</th>\n",
       "      <th>date_diff</th>\n",
       "      <th>diagnosis</th>\n",
       "      <th>fvd_day</th>\n",
       "      <th>fvd_month</th>\n",
       "      <th>...</th>\n",
       "      <th>patient_id</th>\n",
       "      <th>ref_name</th>\n",
       "      <th>ref_source</th>\n",
       "      <th>ref_type</th>\n",
       "      <th>revenue</th>\n",
       "      <th>service_id</th>\n",
       "      <th>service_name</th>\n",
       "      <th>visit_month_year</th>\n",
       "      <th>visits_count</th>\n",
       "      <th>visits_required</th>\n",
       "    </tr>\n",
       "  </thead>\n",
       "  <tbody>\n",
       "    <tr>\n",
       "      <th>0</th>\n",
       "      <td>04/15</td>\n",
       "      <td>P</td>\n",
       "      <td>62</td>\n",
       "      <td>\\N</td>\n",
       "      <td>Portea</td>\n",
       "      <td>Chennai</td>\n",
       "      <td>0</td>\n",
       "      <td>Post Operative condition of Cardiac Valve repl...</td>\n",
       "      <td>21</td>\n",
       "      <td>4</td>\n",
       "      <td>...</td>\n",
       "      <td>10020</td>\n",
       "      <td>None</td>\n",
       "      <td>Direct Organic</td>\n",
       "      <td>B2C</td>\n",
       "      <td>500.0</td>\n",
       "      <td>2</td>\n",
       "      <td>P</td>\n",
       "      <td>04/15</td>\n",
       "      <td>1.0</td>\n",
       "      <td>1</td>\n",
       "    </tr>\n",
       "    <tr>\n",
       "      <th>1</th>\n",
       "      <td>04/17</td>\n",
       "      <td>P</td>\n",
       "      <td>42</td>\n",
       "      <td>9</td>\n",
       "      <td>Portea</td>\n",
       "      <td>Mumbai</td>\n",
       "      <td>17</td>\n",
       "      <td>Rheumatoid arthritis</td>\n",
       "      <td>8</td>\n",
       "      <td>4</td>\n",
       "      <td>...</td>\n",
       "      <td>10293</td>\n",
       "      <td>Facebook</td>\n",
       "      <td>Digital + ATL</td>\n",
       "      <td>B2C</td>\n",
       "      <td>4900.0</td>\n",
       "      <td>2</td>\n",
       "      <td>P</td>\n",
       "      <td>04/17</td>\n",
       "      <td>7.0</td>\n",
       "      <td>8</td>\n",
       "    </tr>\n",
       "    <tr>\n",
       "      <th>2</th>\n",
       "      <td>07/15</td>\n",
       "      <td>P</td>\n",
       "      <td>67</td>\n",
       "      <td>8</td>\n",
       "      <td>Portea</td>\n",
       "      <td>NCR</td>\n",
       "      <td>42</td>\n",
       "      <td>frozen shoulder</td>\n",
       "      <td>31</td>\n",
       "      <td>7</td>\n",
       "      <td>...</td>\n",
       "      <td>10381</td>\n",
       "      <td>None</td>\n",
       "      <td>Direct Organic</td>\n",
       "      <td>B2C</td>\n",
       "      <td>12250.0</td>\n",
       "      <td>2</td>\n",
       "      <td>P</td>\n",
       "      <td>07/15</td>\n",
       "      <td>1.0</td>\n",
       "      <td>10</td>\n",
       "    </tr>\n",
       "    <tr>\n",
       "      <th>3</th>\n",
       "      <td>07/15</td>\n",
       "      <td>P</td>\n",
       "      <td>67</td>\n",
       "      <td>8</td>\n",
       "      <td>Portea</td>\n",
       "      <td>NCR</td>\n",
       "      <td>42</td>\n",
       "      <td>frozen shoulder</td>\n",
       "      <td>31</td>\n",
       "      <td>7</td>\n",
       "      <td>...</td>\n",
       "      <td>10381</td>\n",
       "      <td>None</td>\n",
       "      <td>Direct Organic</td>\n",
       "      <td>B2C</td>\n",
       "      <td>12250.0</td>\n",
       "      <td>2</td>\n",
       "      <td>P</td>\n",
       "      <td>08/15</td>\n",
       "      <td>20.0</td>\n",
       "      <td>10</td>\n",
       "    </tr>\n",
       "    <tr>\n",
       "      <th>4</th>\n",
       "      <td>07/15</td>\n",
       "      <td>P</td>\n",
       "      <td>67</td>\n",
       "      <td>8</td>\n",
       "      <td>Portea</td>\n",
       "      <td>NCR</td>\n",
       "      <td>42</td>\n",
       "      <td>frozen shoulder</td>\n",
       "      <td>31</td>\n",
       "      <td>7</td>\n",
       "      <td>...</td>\n",
       "      <td>10381</td>\n",
       "      <td>None</td>\n",
       "      <td>Direct Organic</td>\n",
       "      <td>B2C</td>\n",
       "      <td>12250.0</td>\n",
       "      <td>98</td>\n",
       "      <td>P</td>\n",
       "      <td>08/15</td>\n",
       "      <td>1.0</td>\n",
       "      <td>10</td>\n",
       "    </tr>\n",
       "  </tbody>\n",
       "</table>\n",
       "<p>5 rows × 26 columns</p>\n",
       "</div>"
      ],
      "text/plain": [
       "     FVM FVS approx_age avg_nps   brand     city  date_diff  \\\n",
       "0  04/15   P         62      \\N  Portea  Chennai          0   \n",
       "1  04/17   P         42       9  Portea   Mumbai         17   \n",
       "2  07/15   P         67       8  Portea      NCR         42   \n",
       "3  07/15   P         67       8  Portea      NCR         42   \n",
       "4  07/15   P         67       8  Portea      NCR         42   \n",
       "\n",
       "                                           diagnosis  fvd_day  fvd_month  \\\n",
       "0  Post Operative condition of Cardiac Valve repl...       21          4   \n",
       "1                               Rheumatoid arthritis        8          4   \n",
       "2                                    frozen shoulder       31          7   \n",
       "3                                    frozen shoulder       31          7   \n",
       "4                                    frozen shoulder       31          7   \n",
       "\n",
       "        ...        patient_id  ref_name      ref_source  ref_type  revenue  \\\n",
       "0       ...             10020      None  Direct Organic       B2C    500.0   \n",
       "1       ...             10293  Facebook   Digital + ATL       B2C   4900.0   \n",
       "2       ...             10381      None  Direct Organic       B2C  12250.0   \n",
       "3       ...             10381      None  Direct Organic       B2C  12250.0   \n",
       "4       ...             10381      None  Direct Organic       B2C  12250.0   \n",
       "\n",
       "   service_id  service_name visit_month_year visits_count visits_required  \n",
       "0           2             P            04/15          1.0               1  \n",
       "1           2             P            04/17          7.0               8  \n",
       "2           2             P            07/15          1.0              10  \n",
       "3           2             P            08/15         20.0              10  \n",
       "4          98             P            08/15          1.0              10  \n",
       "\n",
       "[5 rows x 26 columns]"
      ]
     },
     "execution_count": 126,
     "metadata": {},
     "output_type": "execute_result"
    }
   ],
   "source": [
    "tt=pd.concat([train,test],ignore_index=True)\n",
    "print(tt.shape)\n",
    "tt.head()"
   ]
  },
  {
   "cell_type": "code",
   "execution_count": 127,
   "metadata": {
    "ExecuteTime": {
     "end_time": "2018-04-09T19:08:46.232565Z",
     "start_time": "2018-04-09T19:08:46.079978Z"
    },
    "collapsed": false,
    "deletable": true,
    "editable": true
   },
   "outputs": [],
   "source": [
    "tt['vmy_month']=tt.visit_month_year.apply(lambda x: x[0:2])\n",
    "tt['vmy_year']=tt.visit_month_year.apply(lambda x: x[3:5])"
   ]
  },
  {
   "cell_type": "code",
   "execution_count": 128,
   "metadata": {
    "ExecuteTime": {
     "end_time": "2018-04-09T19:08:48.191888Z",
     "start_time": "2018-04-09T19:08:48.081110Z"
    },
    "collapsed": false,
    "deletable": true,
    "editable": true
   },
   "outputs": [],
   "source": [
    "tt.drop(['FVM','FVS','visit_month_year'],axis=1,inplace=True)\n"
   ]
  },
  {
   "cell_type": "code",
   "execution_count": 73,
   "metadata": {
    "ExecuteTime": {
     "end_time": "2018-04-09T15:55:56.021565Z",
     "start_time": "2018-04-09T15:55:55.924104Z"
    },
    "collapsed": true,
    "deletable": true,
    "editable": true
   },
   "outputs": [],
   "source": [
    "#tt['visit_diff']=tt.visits_required-tt.visits_count\n",
    "#tt['visit_diff_ohe']=tt.visit_diff.apply(lambda x: 1 if x<0 else 0)"
   ]
  },
  {
   "cell_type": "code",
   "execution_count": 129,
   "metadata": {
    "ExecuteTime": {
     "end_time": "2018-04-09T19:08:50.684607Z",
     "start_time": "2018-04-09T19:08:50.445417Z"
    },
    "collapsed": false,
    "deletable": true,
    "editable": true
   },
   "outputs": [],
   "source": [
    "tt.replace(to_replace=\"\\\\N\",value='-1',inplace=True)"
   ]
  },
  {
   "cell_type": "code",
   "execution_count": 229,
   "metadata": {
    "ExecuteTime": {
     "end_time": "2018-04-09T19:26:16.309021Z",
     "start_time": "2018-04-09T19:26:16.304690Z"
    },
    "collapsed": false,
    "deletable": true,
    "editable": true,
    "scrolled": true
   },
   "outputs": [],
   "source": [
    "#tt.avg_nps=tt.avg_nps.apply(lambda x : '-1' if len(x)>4 or len(x)==0 or x==' ' else x)\n"
   ]
  },
  {
   "cell_type": "code",
   "execution_count": 131,
   "metadata": {
    "ExecuteTime": {
     "end_time": "2018-04-09T19:08:56.914232Z",
     "start_time": "2018-04-09T19:08:56.710248Z"
    },
    "collapsed": false,
    "deletable": true,
    "editable": true
   },
   "outputs": [],
   "source": [
    "tt.approx_age=tt.approx_age.astype('int64')\n",
    "tt.vmy_year=tt.vmy_year.astype('int64')\n",
    "tt.avg_nps=tt.avg_nps.astype('float64')\n",
    "tt.vmy_month=tt.vmy_month.astype('int64')"
   ]
  },
  {
   "cell_type": "code",
   "execution_count": 132,
   "metadata": {
    "ExecuteTime": {
     "end_time": "2018-04-09T19:09:00.328017Z",
     "start_time": "2018-04-09T19:08:58.465487Z"
    },
    "collapsed": false,
    "deletable": true,
    "editable": true
   },
   "outputs": [
    {
     "name": "stdout",
     "output_type": "stream",
     "text": [
      "brand\n",
      "city\n",
      "diagnosis\n",
      "gender\n",
      "ref_name\n",
      "ref_source\n",
      "ref_type\n",
      "service_name\n"
     ]
    }
   ],
   "source": [
    "for i in tt.columns :\n",
    "    if tt[i].dtypes=='object':\n",
    "        print(i)\n",
    "        le=LabelEncoder()\n",
    "        tt[i]=le.fit_transform(tt[i])\n",
    "        #est[i]=le.transform(test[i])"
   ]
  },
  {
   "cell_type": "code",
   "execution_count": 133,
   "metadata": {
    "ExecuteTime": {
     "end_time": "2018-04-09T19:09:02.668043Z",
     "start_time": "2018-04-09T19:09:02.637423Z"
    },
    "collapsed": false,
    "deletable": true,
    "editable": true
   },
   "outputs": [],
   "source": [
    "tt.drop('visits_count',axis=1,inplace=True)"
   ]
  },
  {
   "cell_type": "code",
   "execution_count": 134,
   "metadata": {
    "ExecuteTime": {
     "end_time": "2018-04-09T19:09:04.466719Z",
     "start_time": "2018-04-09T19:09:04.423951Z"
    },
    "collapsed": false,
    "deletable": true,
    "editable": true
   },
   "outputs": [],
   "source": [
    "train=tt[tt.is_train==1]\n",
    "test=tt[tt.is_train==0].drop(['revenue'],axis=1)\n",
    "del tt"
   ]
  },
  {
   "cell_type": "code",
   "execution_count": 135,
   "metadata": {
    "ExecuteTime": {
     "end_time": "2018-04-09T19:09:05.542466Z",
     "start_time": "2018-04-09T19:09:05.454280Z"
    },
    "collapsed": true,
    "deletable": true,
    "editable": true
   },
   "outputs": [],
   "source": [
    "test.drop('is_train',axis=1,inplace=True)\n",
    "train.drop('is_train',axis=1,inplace=True)"
   ]
  },
  {
   "cell_type": "markdown",
   "metadata": {
    "ExecuteTime": {
     "end_time": "2018-03-27T15:15:29.026330Z",
     "start_time": "2018-03-27T15:15:29.021176Z"
    },
    "deletable": true,
    "editable": true
   },
   "source": [
    "### MODELS"
   ]
  },
  {
   "cell_type": "code",
   "execution_count": 136,
   "metadata": {
    "ExecuteTime": {
     "end_time": "2018-04-09T19:09:07.299595Z",
     "start_time": "2018-04-09T19:09:07.293573Z"
    },
    "collapsed": false,
    "deletable": true,
    "editable": true
   },
   "outputs": [
    {
     "data": {
      "text/plain": [
       "((55329, 22), (78588, 23))"
      ]
     },
     "execution_count": 136,
     "metadata": {},
     "output_type": "execute_result"
    }
   ],
   "source": [
    "test.shape,train.shape"
   ]
  },
  {
   "cell_type": "code",
   "execution_count": null,
   "metadata": {
    "ExecuteTime": {
     "end_time": "2018-03-30T23:10:28.788810Z",
     "start_time": "2018-03-30T23:10:28.785301Z"
    },
    "collapsed": false,
    "deletable": true,
    "editable": true
   },
   "outputs": [],
   "source": [
    "#train.drop_duplicates(keep='first',inplace=True)\n",
    "#train.is_click.value_counts()"
   ]
  },
  {
   "cell_type": "code",
   "execution_count": 137,
   "metadata": {
    "ExecuteTime": {
     "end_time": "2018-04-09T19:09:10.549321Z",
     "start_time": "2018-04-09T19:09:10.538394Z"
    },
    "collapsed": true,
    "deletable": true,
    "editable": true
   },
   "outputs": [],
   "source": [
    "X=train.drop(['revenue','patient_id'],axis=1)\n",
    "Y=train.revenue"
   ]
  },
  {
   "cell_type": "code",
   "execution_count": 138,
   "metadata": {
    "ExecuteTime": {
     "end_time": "2018-04-09T19:09:11.541049Z",
     "start_time": "2018-04-09T19:09:11.534340Z"
    },
    "collapsed": false,
    "deletable": true,
    "editable": true
   },
   "outputs": [
    {
     "data": {
      "text/plain": [
       "((78588, 21), (78588,))"
      ]
     },
     "execution_count": 138,
     "metadata": {},
     "output_type": "execute_result"
    }
   ],
   "source": [
    "X.shape,Y.shape"
   ]
  },
  {
   "cell_type": "code",
   "execution_count": 144,
   "metadata": {
    "ExecuteTime": {
     "end_time": "2018-04-09T19:10:11.505298Z",
     "start_time": "2018-04-09T19:10:11.398936Z"
    },
    "collapsed": false,
    "deletable": true,
    "editable": true
   },
   "outputs": [],
   "source": [
    "x_train,x_test,y_train,y_test= train_test_split(X,Y,test_size=0.20,random_state=4)"
   ]
  },
  {
   "cell_type": "code",
   "execution_count": 146,
   "metadata": {
    "ExecuteTime": {
     "end_time": "2018-04-09T19:10:13.288774Z",
     "start_time": "2018-04-09T19:10:13.284236Z"
    },
    "collapsed": true,
    "deletable": true,
    "editable": true
   },
   "outputs": [],
   "source": [
    "def rmse(yt,yp):\n",
    "    return mean_squared_error(yt,yp)**0.5"
   ]
  },
  {
   "cell_type": "code",
   "execution_count": 230,
   "metadata": {
    "ExecuteTime": {
     "end_time": "2018-04-09T19:26:32.452895Z",
     "start_time": "2018-04-09T19:26:32.448446Z"
    },
    "collapsed": false,
    "deletable": true,
    "editable": true,
    "scrolled": true
   },
   "outputs": [],
   "source": [
    "#rf=RandomForestRegressor(n_estimators=1000, criterion='mse', max_depth=10, max_features='sqrt',\n",
    "#                            min_samples_leaf=3,n_jobs=-1, random_state=0)\n",
    "#rf.fit(X,Y)\n",
    "#pred_rf=rf.predict(x_test)\n",
    "#print(rmse(y_test,pred_rf))#,accuracy_score(y_test,pred_rf)\n",
    "#confusion_matrix(y_test,pred_rf)"
   ]
  },
  {
   "cell_type": "code",
   "execution_count": 213,
   "metadata": {
    "ExecuteTime": {
     "end_time": "2018-04-09T19:23:20.088617Z",
     "start_time": "2018-04-09T19:23:20.084185Z"
    },
    "collapsed": false,
    "deletable": true,
    "editable": true,
    "scrolled": true
   },
   "outputs": [],
   "source": [
    "#featimp = pd.Series(rf.feature_importances_,index=x_train.columns).sort_values(ascending=False)\n",
    "#print(featimp) # this is the property of Random Forest classifier that it provide us the importance "
   ]
  },
  {
   "cell_type": "code",
   "execution_count": 214,
   "metadata": {
    "ExecuteTime": {
     "end_time": "2018-04-09T19:23:30.033024Z",
     "start_time": "2018-04-09T19:23:29.948687Z"
    },
    "collapsed": true,
    "deletable": true,
    "editable": true
   },
   "outputs": [],
   "source": [
    "dtrain = xgb.DMatrix(x_train, label=y_train)\n",
    "dtest = xgb.DMatrix(x_test)"
   ]
  },
  {
   "cell_type": "code",
   "execution_count": 215,
   "metadata": {
    "ExecuteTime": {
     "end_time": "2018-04-09T19:24:14.010198Z",
     "start_time": "2018-04-09T19:23:31.977234Z"
    },
    "collapsed": false,
    "deletable": true,
    "editable": true
   },
   "outputs": [
    {
     "name": "stdout",
     "output_type": "stream",
     "text": [
      "1976.1792953\n"
     ]
    }
   ],
   "source": [
    "param = {\n",
    "    'max_depth':10, # the maximum depth of each tree\n",
    "    'eta': 0.1,     # the training step for each iteration\n",
    "    'silent': 1,    # logging mode - quiet\n",
    "    'objective': 'reg:linear',  # error evaluation for multiclass training\n",
    "    'eval_metric':'rmse'\n",
    "}                       \n",
    "\n",
    "num_round = 400\n",
    "bst1 = xgb.train(param, dtrain, num_round)\n",
    "pred_xg = bst1.predict(dtest)\n",
    "print(rmse(y_test,pred_xg))\n"
   ]
  },
  {
   "cell_type": "code",
   "execution_count": 216,
   "metadata": {
    "ExecuteTime": {
     "end_time": "2018-04-09T19:24:49.048462Z",
     "start_time": "2018-04-09T19:24:47.427834Z"
    },
    "collapsed": false,
    "deletable": true,
    "editable": true
   },
   "outputs": [
    {
     "data": {
      "text/plain": [
       "<matplotlib.axes._subplots.AxesSubplot at 0x7fb4d841d630>"
      ]
     },
     "execution_count": 216,
     "metadata": {},
     "output_type": "execute_result"
    },
    {
     "data": {
      "image/png": "[encoded data removed]",
      "text/plain": [
       "<matplotlib.figure.Figure at 0x7fb4f0a5fe10>"
      ]
     },
     "metadata": {},
     "output_type": "display_data"
    }
   ],
   "source": [
    "plot_importance(bst1)"
   ]
  },
  {
   "cell_type": "markdown",
   "metadata": {
    "ExecuteTime": {
     "end_time": "2018-04-08T22:09:54.365872Z",
     "start_time": "2018-04-08T22:09:54.254206Z"
    },
    "collapsed": false,
    "deletable": true,
    "editable": true
   },
   "source": [
    "### Submission"
   ]
  },
  {
   "cell_type": "code",
   "execution_count": 217,
   "metadata": {
    "ExecuteTime": {
     "end_time": "2018-04-09T19:24:51.776991Z",
     "start_time": "2018-04-09T19:24:51.757309Z"
    },
    "collapsed": true,
    "deletable": true,
    "editable": true
   },
   "outputs": [],
   "source": [
    "sub=pd.read_csv('Submission.csv')"
   ]
  },
  {
   "cell_type": "code",
   "execution_count": 219,
   "metadata": {
    "ExecuteTime": {
     "end_time": "2018-04-09T19:25:09.511355Z",
     "start_time": "2018-04-09T19:25:07.523858Z"
    },
    "collapsed": false,
    "deletable": true,
    "editable": true
   },
   "outputs": [],
   "source": [
    "ddtest=xgb.DMatrix(test[x_train.columns])\n",
    "test['pred']=bst1.predict(ddtest)"
   ]
  },
  {
   "cell_type": "code",
   "execution_count": 220,
   "metadata": {
    "ExecuteTime": {
     "end_time": "2018-04-09T19:25:09.532612Z",
     "start_time": "2018-04-09T19:25:09.513295Z"
    },
    "collapsed": false,
    "deletable": true,
    "editable": true
   },
   "outputs": [
    {
     "data": {
      "text/html": [
       "<div>\n",
       "<table border=\"1\" class=\"dataframe\">\n",
       "  <thead>\n",
       "    <tr style=\"text-align: right;\">\n",
       "      <th></th>\n",
       "      <th>patient_id</th>\n",
       "      <th>pred</th>\n",
       "    </tr>\n",
       "  </thead>\n",
       "  <tbody>\n",
       "    <tr>\n",
       "      <th>0</th>\n",
       "      <td>122</td>\n",
       "      <td>25457.578125</td>\n",
       "    </tr>\n",
       "    <tr>\n",
       "      <th>1</th>\n",
       "      <td>129</td>\n",
       "      <td>8341.695312</td>\n",
       "    </tr>\n",
       "    <tr>\n",
       "      <th>2</th>\n",
       "      <td>10251</td>\n",
       "      <td>5434.611816</td>\n",
       "    </tr>\n",
       "    <tr>\n",
       "      <th>3</th>\n",
       "      <td>10496</td>\n",
       "      <td>35580.003906</td>\n",
       "    </tr>\n",
       "    <tr>\n",
       "      <th>4</th>\n",
       "      <td>10701</td>\n",
       "      <td>31511.591797</td>\n",
       "    </tr>\n",
       "  </tbody>\n",
       "</table>\n",
       "</div>"
      ],
      "text/plain": [
       "   patient_id          pred\n",
       "0         122  25457.578125\n",
       "1         129   8341.695312\n",
       "2       10251   5434.611816\n",
       "3       10496  35580.003906\n",
       "4       10701  31511.591797"
      ]
     },
     "execution_count": 220,
     "metadata": {},
     "output_type": "execute_result"
    }
   ],
   "source": [
    "temp=test.groupby(['patient_id'])['pred'].mean().reset_index()\n",
    "temp.head()"
   ]
  },
  {
   "cell_type": "code",
   "execution_count": 221,
   "metadata": {
    "ExecuteTime": {
     "end_time": "2018-04-09T19:25:12.713776Z",
     "start_time": "2018-04-09T19:25:12.566443Z"
    },
    "collapsed": false,
    "deletable": true,
    "editable": true
   },
   "outputs": [],
   "source": [
    "sub.rename(index=str,columns={\"PID\":\"patient_id\",\"Bucket\":'Bucket'},inplace=True)"
   ]
  },
  {
   "cell_type": "code",
   "execution_count": 222,
   "metadata": {
    "ExecuteTime": {
     "end_time": "2018-04-09T19:25:13.628079Z",
     "start_time": "2018-04-09T19:25:13.600628Z"
    },
    "collapsed": false,
    "deletable": true,
    "editable": true
   },
   "outputs": [],
   "source": [
    "\n",
    "sub=pd.merge(sub,temp,on='patient_id')"
   ]
  },
  {
   "cell_type": "code",
   "execution_count": 223,
   "metadata": {
    "ExecuteTime": {
     "end_time": "2018-04-09T19:25:17.570889Z",
     "start_time": "2018-04-09T19:25:17.560787Z"
    },
    "collapsed": true,
    "deletable": true,
    "editable": true
   },
   "outputs": [],
   "source": [
    "def buc(x):\n",
    "    if x<=1000:\n",
    "        return 'Low'\n",
    "    elif x>1000 and x<=5000:\n",
    "        return 'Med'\n",
    "    elif x>5000 and x<=10000:\n",
    "        return 'High-Med'\n",
    "    elif x>10000:\n",
    "        return 'High'"
   ]
  },
  {
   "cell_type": "code",
   "execution_count": 224,
   "metadata": {
    "ExecuteTime": {
     "end_time": "2018-04-09T19:25:21.382263Z",
     "start_time": "2018-04-09T19:25:21.303733Z"
    },
    "collapsed": false,
    "deletable": true,
    "editable": true
   },
   "outputs": [
    {
     "data": {
      "text/html": [
       "<div>\n",
       "<table border=\"1\" class=\"dataframe\">\n",
       "  <thead>\n",
       "    <tr style=\"text-align: right;\">\n",
       "      <th></th>\n",
       "      <th>patient_id</th>\n",
       "      <th>Bucket</th>\n",
       "      <th>pred</th>\n",
       "    </tr>\n",
       "  </thead>\n",
       "  <tbody>\n",
       "    <tr>\n",
       "      <th>0</th>\n",
       "      <td>111331</td>\n",
       "      <td>Low</td>\n",
       "      <td>458.745575</td>\n",
       "    </tr>\n",
       "    <tr>\n",
       "      <th>1</th>\n",
       "      <td>27477</td>\n",
       "      <td>Med</td>\n",
       "      <td>1368.923828</td>\n",
       "    </tr>\n",
       "    <tr>\n",
       "      <th>2</th>\n",
       "      <td>439072</td>\n",
       "      <td>Med</td>\n",
       "      <td>1628.417847</td>\n",
       "    </tr>\n",
       "    <tr>\n",
       "      <th>3</th>\n",
       "      <td>346329</td>\n",
       "      <td>Low</td>\n",
       "      <td>443.200745</td>\n",
       "    </tr>\n",
       "    <tr>\n",
       "      <th>4</th>\n",
       "      <td>58664</td>\n",
       "      <td>Low</td>\n",
       "      <td>523.833801</td>\n",
       "    </tr>\n",
       "  </tbody>\n",
       "</table>\n",
       "</div>"
      ],
      "text/plain": [
       "   patient_id Bucket         pred\n",
       "0      111331    Low   458.745575\n",
       "1       27477    Med  1368.923828\n",
       "2      439072    Med  1628.417847\n",
       "3      346329    Low   443.200745\n",
       "4       58664    Low   523.833801"
      ]
     },
     "execution_count": 224,
     "metadata": {},
     "output_type": "execute_result"
    }
   ],
   "source": [
    "sub.Bucket=sub.pred.apply(lambda x : buc(x))\n",
    "sub.drop('pred',axis=1,inplace=True)"
   ]
  },
  {
   "cell_type": "code",
   "execution_count": 226,
   "metadata": {
    "ExecuteTime": {
     "end_time": "2018-04-09T19:25:25.066319Z",
     "start_time": "2018-04-09T19:25:24.854071Z"
    },
    "collapsed": false,
    "deletable": true,
    "editable": true
   },
   "outputs": [
    {
     "data": {
      "text/html": [
       "<div>\n",
       "<table border=\"1\" class=\"dataframe\">\n",
       "  <thead>\n",
       "    <tr style=\"text-align: right;\">\n",
       "      <th></th>\n",
       "      <th>PID</th>\n",
       "      <th>Bucket</th>\n",
       "    </tr>\n",
       "  </thead>\n",
       "  <tbody>\n",
       "    <tr>\n",
       "      <th>0</th>\n",
       "      <td>111331</td>\n",
       "      <td>Low</td>\n",
       "    </tr>\n",
       "    <tr>\n",
       "      <th>1</th>\n",
       "      <td>27477</td>\n",
       "      <td>Med</td>\n",
       "    </tr>\n",
       "    <tr>\n",
       "      <th>2</th>\n",
       "      <td>439072</td>\n",
       "      <td>Med</td>\n",
       "    </tr>\n",
       "    <tr>\n",
       "      <th>3</th>\n",
       "      <td>346329</td>\n",
       "      <td>Low</td>\n",
       "    </tr>\n",
       "    <tr>\n",
       "      <th>4</th>\n",
       "      <td>58664</td>\n",
       "      <td>Low</td>\n",
       "    </tr>\n",
       "  </tbody>\n",
       "</table>\n",
       "</div>"
      ],
      "text/plain": [
       "      PID Bucket\n",
       "0  111331    Low\n",
       "1   27477    Med\n",
       "2  439072    Med\n",
       "3  346329    Low\n",
       "4   58664    Low"
      ]
     },
     "execution_count": 226,
     "metadata": {},
     "output_type": "execute_result"
    }
   ],
   "source": [
    "sub.rename(index=str,columns={\"patient_id\":\"PID\",\"Bucket\":'Bucket'},inplace=True)\n",
    "sub.head()"
   ]
  },
  {
   "cell_type": "code",
   "execution_count": 227,
   "metadata": {
    "ExecuteTime": {
     "end_time": "2018-04-09T19:25:27.395512Z",
     "start_time": "2018-04-09T19:25:27.289208Z"
    },
    "collapsed": true,
    "deletable": true,
    "editable": true
   },
   "outputs": [],
   "source": [
    "sub.to_csv('sub-xgbt-new-1.csv',index=False)"
   ]
  }
 ],
 "metadata": {
  "anaconda-cloud": {},
  "kernelspec": {
   "display_name": "Python [default]",
   "language": "python",
   "name": "python3"
  },
  "language_info": {
   "codemirror_mode": {
    "name": "ipython",
    "version": 3
   },
   "file_extension": ".py",
   "mimetype": "text/x-python",
   "name": "python",
   "nbconvert_exporter": "python",
   "pygments_lexer": "ipython3",
   "version": "3.5.3"
  }
 },
 "nbformat": 4,
 "nbformat_minor": 2
}
